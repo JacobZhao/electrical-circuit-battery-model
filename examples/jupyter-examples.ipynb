{
 "cells": [
  {
   "cell_type": "markdown",
   "metadata": {},
   "source": [
    "# Electrical Circuit Battery Model"
   ]
  },
  {
   "cell_type": "markdown",
   "metadata": {},
   "source": [
    "## Import Libraries"
   ]
  },
  {
   "cell_type": "code",
   "execution_count": null,
   "metadata": {
    "collapsed": true
   },
   "outputs": [],
   "source": [
    "%matplotlib inline\n",
    "\n",
    "import sys\n",
    "import matplotlib.pyplot as plt\n",
    "\n",
    "sys.path.append(\"../\")\n",
    "from csvhelper import *\n",
    "from measurement import *\n",
    "from isimulator import *"
   ]
  },
  {
   "cell_type": "markdown",
   "metadata": {},
   "source": [
    "## Example 1: Continuous Resistor Load\n",
    "Discharging an Alkaline battery with a $10\\Omega$ continuous resistor load."
   ]
  },
  {
   "cell_type": "code",
   "execution_count": null,
   "metadata": {},
   "outputs": [],
   "source": [
    "R = 10 #Ohm\n",
    "t, E_Batt, U_Batt, I_Batt = ISimulator(Alkaline(), ResistorLoad(R)).run()\n",
    "  \n",
    "plt.figure()\n",
    "plt.xlabel('t [h]')\n",
    "plt.ylabel('$U_{Batt}$ [V]')\n",
    "plt.plot([x / 3600.0 for x in t], U_Batt)\n",
    "  \n",
    "plt.figure()\n",
    "plt.xlabel('t [h]')\n",
    "plt.ylabel('$I_{Batt}$ [mA]')\n",
    "plt.plot([x / 3600.0 for x in t], [x * 1000.0 for x in I_Batt])  \n",
    "    \n",
    "plt.figure()\n",
    "plt.xlabel('$E_{Batt}$ [Wh]')\n",
    "plt.ylabel('$U_{Batt}$ [V]')\n",
    "plt.plot([x / 3600.0 for x in E_Batt], U_Batt)"
   ]
  },
  {
   "cell_type": "markdown",
   "metadata": {},
   "source": [
    "## Example 2: Continuous Resistor Load (simple)\n",
    "Discharging an Alkaline battery with a $10\\Omega$ continuous resistor load.\n",
    "Print end values only to increase simulation speed and reduce memory requirements."
   ]
  },
  {
   "cell_type": "code",
   "execution_count": null,
   "metadata": {},
   "outputs": [],
   "source": [
    "R = 10 #Ohm\n",
    "t_cutoff, E_cutoff = ISimulator(Alkaline(), ResistorLoad(R)).run(simple=True)\n",
    "  \n",
    "print(\"t_cutoff = {} h\".format(t_cutoff / 3600.0))\n",
    "print(\"E_cutoff = {} Wh\".format(E_cutoff / 3600.0))"
   ]
  },
  {
   "cell_type": "markdown",
   "metadata": {},
   "source": [
    "## Example 3: Intermittent Constant Power Load\n",
    "Discharging a Li-Ion battery with a 1 Watt constant power load ($T_{ON} = T_{OFF} = 1h$).\n",
    "\n",
    "You can also change the discrete simulation interval `step` (default: 1s), the circuit model update interval `mstep` (default: `step`), and the interval the battery values are written to the result arrays `astep` (default: `step`). All values in seconds."
   ]
  },
  {
   "cell_type": "code",
   "execution_count": null,
   "metadata": {},
   "outputs": [],
   "source": [
    "P = 1.0 #Watt\n",
    "T_ON = T_OFF = 3600.0 #s\n",
    "t, E_Batt, U_Batt, I_Batt = ISimulator(LiPo(), ConstantPowerLoad(P, T_ON, T_OFF))\\\n",
    "    .run(step = 0.1, mstep = 1.0, astep = 1.0)\n",
    "\n",
    "plt.figure()\n",
    "plt.xlabel('t [h]')\n",
    "plt.ylabel('$U_{Batt}$ [V]')\n",
    "plt.plot([x / 3600.0 for x in t], U_Batt)\n",
    "  \n",
    "plt.figure()\n",
    "plt.xlabel('t [h]')\n",
    "plt.ylabel('$I_{Batt}$ [mA]')\n",
    "plt.plot([x / 3600.0 for x in t], [x * 1000.0 for x in I_Batt])  \n",
    "    \n",
    "plt.figure()\n",
    "plt.xlabel('$E_{Batt}$ [Wh]')\n",
    "plt.ylabel('$U_{Batt}$ [V]')\n",
    "plt.plot([x / 3600.0 for x in E_Batt], U_Batt)"
   ]
  },
  {
   "cell_type": "markdown",
   "metadata": {},
   "source": [
    "## Example 4: Adaptive Intermittent Resistor Load\n",
    "1. Discharge an Alkaline battery with an intermittent $6\\Omega$ resistor load ($T_{ON}$ = $T_{OFF}$ = 50s)\n",
    "2. Discharge an Alkaline battery with an adaptive intermittent $6\\Omega$ resistor load. Start with $T_{ON} = T_{OFF} = 50s$ until $U_{Batt}$ falls bellow $U_{thresh} = 1V$. Then, continue with $T_{ON} = T_{OFF} = 1s$."
   ]
  },
  {
   "cell_type": "code",
   "execution_count": null,
   "metadata": {},
   "outputs": [],
   "source": [
    "plt.figure()\n",
    "plt.xlabel('t [h]')\n",
    "plt.ylabel('$U_{Batt}$ [V]')\n",
    "\n",
    "# not adaptive\n",
    "#  -> always: T_ON = T_OFF = 50s\n",
    "load = ResistorLoad(6.0, 50.0, 50.0)\n",
    "t, E_Batt, U_Batt, I_Batt = ISimulator(Alkaline(), load).run()\n",
    "plt.plot([x / 3600.0 for x in t], U_Batt, 'r-')\n",
    "\n",
    "# adaptive: U_thresh = 1.0 V\n",
    "#  -> start: T_ON = T_OFF = 50s\n",
    "#  -> save:  T_ON = T_OFF = 1s\n",
    "load = AdaptiveResistorLoad(1.0,\\\n",
    "                            6.0, 50.0, 50.0,\\\n",
    "                            6.0, 1.0,  1.0)\n",
    "t, E_Batt, U_Batt, I_Batt = ISimulator(Alkaline(), load).run()\n",
    "plt.plot([x / 3600.0 for x in t], U_Batt, 'b-')"
   ]
  },
  {
   "cell_type": "markdown",
   "metadata": {},
   "source": [
    "## Example 5: Compare Simulation with Measurement\n",
    "Compare a simulation result to measurement data and print error stats. \n",
    "\n",
    "NOTE: Make sure to use the same `step` for simulation and measurement data.\n",
    "\n",
    "NOTE: Unzip `/measurements/*.zip` and run `/measurements/filter.py` first to prepare the measurement data."
   ]
  },
  {
   "cell_type": "code",
   "execution_count": null,
   "metadata": {},
   "outputs": [],
   "source": [
    "# experiment parameters\n",
    "step = 0.1\n",
    "R = 24.8\n",
    "T_ON = 50.0\n",
    "T_OFF = 50.0\n",
    "\n",
    "# simulate\n",
    "t, E_Batt, U_Batt, _ = ISimulator(LiPo(), ResistorLoad(R, T_ON, T_OFF)).run(step, mstep = 10.0)\n",
    "  \n",
    "# load measurement\n",
    "t_real, U_Batt_real = CSV.load2(\"../measurements/24.8ohm_50s_50s_lipo-savgol7.csv\", step)\n",
    "E_Batt_real = get_energy(t_real, U_Batt_real, R, T_ON, T_OFF)\n",
    "  \n",
    "# plot curves\n",
    "plt.figure()\n",
    "plt.xlabel('t [h]')\n",
    "plt.ylabel('$U_{Batt}$ [V]')\n",
    "plt.plot([x / 3600.0 for x in t], U_Batt, 'b-')\n",
    "plt.plot([x / 3600.0 for x in t_real], U_Batt_real, 'r-')\n",
    "\n",
    "plt.figure()  \n",
    "plt.xlabel('$E_{Batt}$ [Wh]')\n",
    "plt.ylabel('$U_{Batt}$ [V]')\n",
    "plt.plot([x / 3600.0 for x in E_Batt], U_Batt, 'b-')\n",
    "plt.plot([x / 3600.0 for x in E_Batt_real], U_Batt_real, 'r-')\n",
    "  \n",
    "# print error stats\n",
    "stats(\"24.8ohm_50s_50s_lipo\", t_real, t, U_Batt_real, U_Batt, E_Batt_real, E_Batt)  "
   ]
  },
  {
   "cell_type": "code",
   "execution_count": null,
   "metadata": {
    "collapsed": true
   },
   "outputs": [],
   "source": []
  }
 ],
 "metadata": {
  "kernelspec": {
   "display_name": "Python 3",
   "language": "python",
   "name": "python3"
  },
  "language_info": {
   "codemirror_mode": {
    "name": "ipython",
    "version": 3
   },
   "file_extension": ".py",
   "mimetype": "text/x-python",
   "name": "python",
   "nbconvert_exporter": "python",
   "pygments_lexer": "ipython3",
   "version": "3.5.3"
  }
 },
 "nbformat": 4,
 "nbformat_minor": 1
}
